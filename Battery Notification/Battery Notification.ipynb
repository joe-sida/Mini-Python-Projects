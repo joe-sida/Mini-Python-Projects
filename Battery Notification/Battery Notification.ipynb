{
 "cells": [
  {
   "cell_type": "code",
   "execution_count": null,
   "metadata": {},
   "outputs": [],
   "source": [
    "#Import psutil and notification\n",
    "\n",
    "import psutil\n",
    "from pynotifier import notification\n",
    "import time"
   ]
  },
  {
   "cell_type": "code",
   "execution_count": null,
   "metadata": {},
   "outputs": [],
   "source": [
    "#Run a while loop that\n",
    "while(True):\n",
    "    battery = psutil.sensors_battery()\n",
    "    percent= battery.percent\n",
    "    \n",
    "    notification.notify(title=\"Battery Notification\", message=str(percent)+\"% batter percent\", timeout=10)\n",
    "    time.sleep(60*60)\n",
    "    continue  \n",
    "    "
   ]
  },
  {
   "cell_type": "code",
   "execution_count": null,
   "metadata": {},
   "outputs": [],
   "source": []
  },
  {
   "cell_type": "code",
   "execution_count": null,
   "metadata": {},
   "outputs": [],
   "source": []
  }
 ],
 "metadata": {
  "kernelspec": {
   "display_name": "Python 3",
   "language": "python",
   "name": "python3"
  },
  "language_info": {
   "codemirror_mode": {
    "name": "ipython",
    "version": 3
   },
   "file_extension": ".py",
   "mimetype": "text/x-python",
   "name": "python",
   "nbconvert_exporter": "python",
   "pygments_lexer": "ipython3",
   "version": "3.8.3"
  }
 },
 "nbformat": 4,
 "nbformat_minor": 4
}
